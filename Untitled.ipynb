{
 "cells": [
  {
   "cell_type": "code",
   "execution_count": 1,
   "metadata": {},
   "outputs": [],
   "source": [
    "import pandas as pd"
   ]
  },
  {
   "cell_type": "code",
   "execution_count": 2,
   "metadata": {},
   "outputs": [],
   "source": [
    "import requests"
   ]
  },
  {
   "cell_type": "code",
   "execution_count": 3,
   "metadata": {},
   "outputs": [
    {
     "data": {
      "text/plain": [
       "520"
      ]
     },
     "execution_count": 3,
     "metadata": {},
     "output_type": "execute_result"
    }
   ],
   "source": [
    "resp = requests.get('https://twitchtracker.com/games/29595')\n",
    "resp.status_code"
   ]
  },
  {
   "cell_type": "code",
   "execution_count": 4,
   "metadata": {},
   "outputs": [
    {
     "name": "stdout",
     "output_type": "stream",
     "text": [
      "Twitch_Statistics.docx  Twitch_Statistics.txt   USvideos.csv\r\n",
      "\u001b[31mTwitch_Statistics.pages\u001b[m\u001b[m Twitch_Statistics.xlsx  mkbhd.csv\r\n"
     ]
    }
   ],
   "source": [
    "!ls Data"
   ]
  },
  {
   "cell_type": "code",
   "execution_count": 5,
   "metadata": {},
   "outputs": [
    {
     "data": {
      "text/html": [
       "<div>\n",
       "<style scoped>\n",
       "    .dataframe tbody tr th:only-of-type {\n",
       "        vertical-align: middle;\n",
       "    }\n",
       "\n",
       "    .dataframe tbody tr th {\n",
       "        vertical-align: top;\n",
       "    }\n",
       "\n",
       "    .dataframe thead th {\n",
       "        text-align: right;\n",
       "    }\n",
       "</style>\n",
       "<table border=\"1\" class=\"dataframe\">\n",
       "  <thead>\n",
       "    <tr style=\"text-align: right;\">\n",
       "      <th></th>\n",
       "      <th>Month</th>\n",
       "      <th>Average</th>\n",
       "      <th>Gain</th>\n",
       "      <th>% Gain</th>\n",
       "      <th>Peak</th>\n",
       "    </tr>\n",
       "  </thead>\n",
       "  <tbody>\n",
       "    <tr>\n",
       "      <th>0</th>\n",
       "      <td>2022-07-01</td>\n",
       "      <td>43.4K</td>\n",
       "      <td>-16025</td>\n",
       "      <td>-0.27</td>\n",
       "      <td>80.3K</td>\n",
       "    </tr>\n",
       "    <tr>\n",
       "      <th>1</th>\n",
       "      <td>2022-06-01</td>\n",
       "      <td>59.4K</td>\n",
       "      <td>3867</td>\n",
       "      <td>0.07</td>\n",
       "      <td>338K</td>\n",
       "    </tr>\n",
       "    <tr>\n",
       "      <th>2</th>\n",
       "      <td>2022-05-01</td>\n",
       "      <td>55.6K</td>\n",
       "      <td>-10089</td>\n",
       "      <td>-0.154</td>\n",
       "      <td>167K</td>\n",
       "    </tr>\n",
       "    <tr>\n",
       "      <th>3</th>\n",
       "      <td>2022-04-01</td>\n",
       "      <td>65.7K</td>\n",
       "      <td>13455</td>\n",
       "      <td>0.258</td>\n",
       "      <td>442K</td>\n",
       "    </tr>\n",
       "    <tr>\n",
       "      <th>4</th>\n",
       "      <td>2022-03-01</td>\n",
       "      <td>52.2K</td>\n",
       "      <td>5253</td>\n",
       "      <td>0.112</td>\n",
       "      <td>150K</td>\n",
       "    </tr>\n",
       "    <tr>\n",
       "      <th>...</th>\n",
       "      <td>...</td>\n",
       "      <td>...</td>\n",
       "      <td>...</td>\n",
       "      <td>...</td>\n",
       "      <td>...</td>\n",
       "    </tr>\n",
       "    <tr>\n",
       "      <th>64</th>\n",
       "      <td>2017-03-01</td>\n",
       "      <td>68.1K</td>\n",
       "      <td>16559</td>\n",
       "      <td>0.321</td>\n",
       "      <td>672K</td>\n",
       "    </tr>\n",
       "    <tr>\n",
       "      <th>65</th>\n",
       "      <td>2017-02-01</td>\n",
       "      <td>51.6K</td>\n",
       "      <td>3870</td>\n",
       "      <td>0.081</td>\n",
       "      <td>327K</td>\n",
       "    </tr>\n",
       "    <tr>\n",
       "      <th>66</th>\n",
       "      <td>2017-01-01</td>\n",
       "      <td>47.7K</td>\n",
       "      <td>-4905</td>\n",
       "      <td>-0.093</td>\n",
       "      <td>218K</td>\n",
       "    </tr>\n",
       "    <tr>\n",
       "      <th>67</th>\n",
       "      <td>2016-12-01</td>\n",
       "      <td>52.6K</td>\n",
       "      <td>-7709</td>\n",
       "      <td>-0.128</td>\n",
       "      <td>232K</td>\n",
       "    </tr>\n",
       "    <tr>\n",
       "      <th>68</th>\n",
       "      <td>2016-11-01</td>\n",
       "      <td>60.3K</td>\n",
       "      <td>-</td>\n",
       "      <td>-</td>\n",
       "      <td>430K</td>\n",
       "    </tr>\n",
       "  </tbody>\n",
       "</table>\n",
       "<p>69 rows × 5 columns</p>\n",
       "</div>"
      ],
      "text/plain": [
       "        Month Average    Gain % Gain   Peak\n",
       "0  2022-07-01   43.4K  -16025  -0.27  80.3K\n",
       "1  2022-06-01   59.4K    3867   0.07   338K\n",
       "2  2022-05-01   55.6K  -10089 -0.154   167K\n",
       "3  2022-04-01   65.7K   13455  0.258   442K\n",
       "4  2022-03-01   52.2K    5253  0.112   150K\n",
       "..        ...     ...     ...    ...    ...\n",
       "64 2017-03-01   68.1K   16559  0.321   672K\n",
       "65 2017-02-01   51.6K    3870  0.081   327K\n",
       "66 2017-01-01   47.7K   -4905 -0.093   218K\n",
       "67 2016-12-01   52.6K   -7709 -0.128   232K\n",
       "68 2016-11-01   60.3K       -      -   430K\n",
       "\n",
       "[69 rows x 5 columns]"
      ]
     },
     "execution_count": 5,
     "metadata": {},
     "output_type": "execute_result"
    }
   ],
   "source": [
    "twitch_viewers = pd.read_excel('data/Twitch_Statistics.xlsx', sheet_name=0)\n",
    "twitch_viewers"
   ]
  },
  {
   "cell_type": "code",
   "execution_count": 6,
   "metadata": {
    "scrolled": true
   },
   "outputs": [
    {
     "name": "stdout",
     "output_type": "stream",
     "text": [
      "<class 'pandas.core.frame.DataFrame'>\n",
      "RangeIndex: 69 entries, 0 to 68\n",
      "Data columns (total 5 columns):\n",
      " #   Column   Non-Null Count  Dtype         \n",
      "---  ------   --------------  -----         \n",
      " 0   Month    69 non-null     datetime64[ns]\n",
      " 1   Average  69 non-null     object        \n",
      " 2   Gain     69 non-null     object        \n",
      " 3   % Gain   69 non-null     object        \n",
      " 4   Peak     69 non-null     object        \n",
      "dtypes: datetime64[ns](1), object(4)\n",
      "memory usage: 2.8+ KB\n"
     ]
    }
   ],
   "source": [
    "twitch_viewers.info()"
   ]
  },
  {
   "cell_type": "code",
   "execution_count": 7,
   "metadata": {},
   "outputs": [
    {
     "data": {
      "text/plain": [
       "['43.4', '']"
      ]
     },
     "execution_count": 7,
     "metadata": {},
     "output_type": "execute_result"
    }
   ],
   "source": [
    "twitch_viewers['Average'] = twitch_viewers['Average'].astype('str').str.split('K')\n",
    "twitch_viewers['Average'][0]"
   ]
  },
  {
   "cell_type": "code",
   "execution_count": 8,
   "metadata": {
    "scrolled": true
   },
   "outputs": [
    {
     "data": {
      "text/plain": [
       "['43.4',\n",
       " '59.4',\n",
       " '55.6',\n",
       " '65.7',\n",
       " '52.2',\n",
       " '47.0',\n",
       " '54.4',\n",
       " '60.0',\n",
       " '58.1',\n",
       " '51.5',\n",
       " '133',\n",
       " '48.3',\n",
       " '57.4',\n",
       " '57.1',\n",
       " '86.5',\n",
       " '65.4',\n",
       " '69.1',\n",
       " '53.7',\n",
       " '57.9',\n",
       " '53.2',\n",
       " '57.7',\n",
       " '56.9',\n",
       " '45.1',\n",
       " '52.9',\n",
       " '51.4',\n",
       " '48.3',\n",
       " '57.2',\n",
       " '68.8',\n",
       " '75.7',\n",
       " '56.3',\n",
       " '50.4',\n",
       " '59.3',\n",
       " '46.0',\n",
       " '48.4',\n",
       " '40.4',\n",
       " '35.9',\n",
       " '95.3',\n",
       " '55.1',\n",
       " '59.7',\n",
       " '62.8',\n",
       " '41.0',\n",
       " '67.5',\n",
       " '74.9',\n",
       " '62.5',\n",
       " '44.3',\n",
       " '64.1',\n",
       " '47.3',\n",
       " '41.3',\n",
       " '94.0',\n",
       " '39.0',\n",
       " '66.8',\n",
       " '52.5',\n",
       " '55.8',\n",
       " '53.6',\n",
       " '49.0',\n",
       " '41.6',\n",
       " '43.4',\n",
       " '55.0',\n",
       " '42.5',\n",
       " '40.3',\n",
       " '78.7',\n",
       " '32.8',\n",
       " '57.7',\n",
       " '46.6',\n",
       " '68.1',\n",
       " '51.6',\n",
       " '47.7',\n",
       " '52.6',\n",
       " '60.3']"
      ]
     },
     "execution_count": 8,
     "metadata": {},
     "output_type": "execute_result"
    }
   ],
   "source": [
    "average_views = []\n",
    "for number in list(range(0,len(twitch_viewers))):\n",
    "    average_views.append(twitch_viewers['Average'][number][0])\n",
    "average_views"
   ]
  },
  {
   "cell_type": "code",
   "execution_count": 9,
   "metadata": {},
   "outputs": [],
   "source": [
    "twitch_viewers['Average'] = average_views"
   ]
  },
  {
   "cell_type": "code",
   "execution_count": 10,
   "metadata": {},
   "outputs": [],
   "source": [
    "twitch_viewers['Average'] = twitch_viewers['Average'].astype(float)\n"
   ]
  },
  {
   "cell_type": "code",
   "execution_count": 11,
   "metadata": {},
   "outputs": [],
   "source": [
    "twitch_viewers['Peak'] = twitch_viewers['Peak'].str.strip('KM')"
   ]
  },
  {
   "cell_type": "code",
   "execution_count": 12,
   "metadata": {},
   "outputs": [],
   "source": [
    "twitch_viewers['Peak'] = twitch_viewers['Peak'].replace('1.71', '1710.00')"
   ]
  },
  {
   "cell_type": "code",
   "execution_count": 13,
   "metadata": {},
   "outputs": [],
   "source": [
    "twitch_viewers['Peak'] = twitch_viewers['Peak'].replace('1.04', '1040.00')"
   ]
  },
  {
   "cell_type": "code",
   "execution_count": 14,
   "metadata": {},
   "outputs": [
    {
     "data": {
      "text/plain": [
       "0     80.3\n",
       "1      338\n",
       "2      167\n",
       "3      442\n",
       "4      150\n",
       "      ... \n",
       "64     672\n",
       "65     327\n",
       "66     218\n",
       "67     232\n",
       "68     430\n",
       "Name: Peak, Length: 69, dtype: object"
      ]
     },
     "execution_count": 14,
     "metadata": {},
     "output_type": "execute_result"
    }
   ],
   "source": [
    "twitch_viewers['Peak']"
   ]
  },
  {
   "cell_type": "code",
   "execution_count": 15,
   "metadata": {},
   "outputs": [],
   "source": [
    "twitch_viewers['Peak'] = twitch_viewers['Peak'].astype(float)"
   ]
  },
  {
   "cell_type": "code",
   "execution_count": 16,
   "metadata": {},
   "outputs": [
    {
     "name": "stdout",
     "output_type": "stream",
     "text": [
      "<class 'pandas.core.frame.DataFrame'>\n",
      "RangeIndex: 69 entries, 0 to 68\n",
      "Data columns (total 5 columns):\n",
      " #   Column   Non-Null Count  Dtype         \n",
      "---  ------   --------------  -----         \n",
      " 0   Month    69 non-null     datetime64[ns]\n",
      " 1   Average  69 non-null     float64       \n",
      " 2   Gain     69 non-null     object        \n",
      " 3   % Gain   69 non-null     object        \n",
      " 4   Peak     69 non-null     float64       \n",
      "dtypes: datetime64[ns](1), float64(2), object(2)\n",
      "memory usage: 2.8+ KB\n"
     ]
    }
   ],
   "source": [
    "twitch_viewers.info()"
   ]
  },
  {
   "cell_type": "code",
   "execution_count": 17,
   "metadata": {},
   "outputs": [
    {
     "data": {
      "text/plain": [
       "Timestamp('2022-07-01 00:00:00')"
      ]
     },
     "execution_count": 17,
     "metadata": {},
     "output_type": "execute_result"
    }
   ],
   "source": [
    "twitch_viewers['Month'][0]"
   ]
  },
  {
   "cell_type": "code",
   "execution_count": 18,
   "metadata": {},
   "outputs": [],
   "source": [
    "twitch_viewers['Months'] = pd.DatetimeIndex(twitch_viewers['Month']).month"
   ]
  },
  {
   "cell_type": "code",
   "execution_count": null,
   "metadata": {},
   "outputs": [],
   "source": []
  },
  {
   "cell_type": "code",
   "execution_count": 19,
   "metadata": {},
   "outputs": [],
   "source": [
    "twitch_viewers['Year'] = pd.DatetimeIndex(twitch_viewers['Month']).year"
   ]
  },
  {
   "cell_type": "code",
   "execution_count": 20,
   "metadata": {},
   "outputs": [],
   "source": [
    "twitch_viewers = twitch_viewers.loc[twitch_viewers['Year'] != 2022]"
   ]
  },
  {
   "cell_type": "code",
   "execution_count": null,
   "metadata": {},
   "outputs": [],
   "source": []
  },
  {
   "cell_type": "code",
   "execution_count": 21,
   "metadata": {
    "scrolled": true
   },
   "outputs": [],
   "source": [
    "year_2021 = twitch_viewers.loc[twitch_viewers['Year'] == 2021]"
   ]
  },
  {
   "cell_type": "code",
   "execution_count": 22,
   "metadata": {
    "scrolled": true
   },
   "outputs": [
    {
     "data": {
      "text/plain": [
       "Text(0, 0.5, 'Average Daily Views (Thousands)')"
      ]
     },
     "execution_count": 22,
     "metadata": {},
     "output_type": "execute_result"
    },
    {
     "data": {
      "image/png": "[encoded data removed]",
      "text/plain": [
       "<Figure size 432x288 with 1 Axes>"
      ]
     },
     "metadata": {
      "needs_background": "light"
     },
     "output_type": "display_data"
    }
   ],
   "source": [
    "ax = year_2021.plot.line(x='Months', y='Average',rot=0)\n",
    "ax.set_xlabel(\"Months\")\n",
    "ax.set_ylabel(\"Average Daily Views (Thousands)\")"
   ]
  },
  {
   "cell_type": "code",
   "execution_count": 23,
   "metadata": {},
   "outputs": [],
   "source": [
    "year_2019 = twitch_viewers.loc[twitch_viewers['Year'] == 2019]"
   ]
  },
  {
   "cell_type": "code",
   "execution_count": 24,
   "metadata": {},
   "outputs": [
    {
     "data": {
      "text/plain": [
       "Text(0, 0.5, 'Average Daily Views (Thousands)')"
      ]
     },
     "execution_count": 24,
     "metadata": {},
     "output_type": "execute_result"
    },
    {
     "data": {
      "image/png": "[encoded data removed]",
      "text/plain": [
       "<Figure size 432x288 with 1 Axes>"
      ]
     },
     "metadata": {
      "needs_background": "light"
     },
     "output_type": "display_data"
    }
   ],
   "source": [
    "ax = year_2019.plot.line(x='Months', y='Average',rot=0)\n",
    "ax.set_xlabel(\"Months\")\n",
    "ax.set_ylabel(\"Average Daily Views (Thousands)\")"
   ]
  },
  {
   "cell_type": "code",
   "execution_count": 25,
   "metadata": {},
   "outputs": [],
   "source": [
    "year_2018 = twitch_viewers.loc[twitch_viewers['Year'] == 2018]"
   ]
  },
  {
   "cell_type": "code",
   "execution_count": 26,
   "metadata": {},
   "outputs": [
    {
     "data": {
      "text/plain": [
       "Text(0, 0.5, 'Average Daily Views (Thousands)')"
      ]
     },
     "execution_count": 26,
     "metadata": {},
     "output_type": "execute_result"
    },
    {
     "data": {
      "image/png": "[encoded data removed]",
      "text/plain": [
       "<Figure size 432x288 with 1 Axes>"
      ]
     },
     "metadata": {
      "needs_background": "light"
     },
     "output_type": "display_data"
    }
   ],
   "source": [
    "ax = year_2018.plot.line(x='Months', y='Average',rot=0)\n",
    "ax.set_xlabel(\"Months\")\n",
    "ax.set_ylabel(\"Average Daily Views (Thousands)\")"
   ]
  },
  {
   "cell_type": "code",
   "execution_count": null,
   "metadata": {},
   "outputs": [],
   "source": []
  },
  {
   "cell_type": "code",
   "execution_count": null,
   "metadata": {},
   "outputs": [],
   "source": []
  },
  {
   "cell_type": "code",
   "execution_count": 27,
   "metadata": {},
   "outputs": [
    {
     "data": {
      "text/plain": [
       "Text(0, 0.5, 'Peak')"
      ]
     },
     "execution_count": 27,
     "metadata": {},
     "output_type": "execute_result"
    },
    {
     "data": {
      "image/png": "[encoded data removed]",
      "text/plain": [
       "<Figure size 432x288 with 1 Axes>"
      ]
     },
     "metadata": {
      "needs_background": "light"
     },
     "output_type": "display_data"
    }
   ],
   "source": [
    "ax = year_2021.plot.line(x='Months', y='Peak',rot=0)\n",
    "ax.set_xlabel(\"Months\")\n",
    "ax.set_ylabel(\"Peak\")"
   ]
  },
  {
   "cell_type": "code",
   "execution_count": 28,
   "metadata": {},
   "outputs": [
    {
     "data": {
      "text/plain": [
       "Text(0, 0.5, 'Peak')"
      ]
     },
     "execution_count": 28,
     "metadata": {},
     "output_type": "execute_result"
    },
    {
     "data": {
      "image/png": "[encoded data removed]",
      "text/plain": [
       "<Figure size 432x288 with 1 Axes>"
      ]
     },
     "metadata": {
      "needs_background": "light"
     },
     "output_type": "display_data"
    }
   ],
   "source": [
    "ax = year_2018.plot.line(x='Months', y='Peak',rot=0)\n",
    "ax.set_xlabel(\"Months\")\n",
    "ax.set_ylabel(\"Peak\")"
   ]
  },
  {
   "cell_type": "code",
   "execution_count": 29,
   "metadata": {},
   "outputs": [
    {
     "data": {
      "text/plain": [
       "Text(0, 0.5, 'Peak')"
      ]
     },
     "execution_count": 29,
     "metadata": {},
     "output_type": "execute_result"
    },
    {
     "data": {
      "image/png": "[encoded data removed]",
      "text/plain": [
       "<Figure size 432x288 with 1 Axes>"
      ]
     },
     "metadata": {
      "needs_background": "light"
     },
     "output_type": "display_data"
    }
   ],
   "source": [
    "ax = year_2019.plot.line(x='Months', y='Peak',rot=0)\n",
    "ax.set_xlabel(\"Months\")\n",
    "ax.set_ylabel(\"Peak\")"
   ]
  },
  {
   "cell_type": "code",
   "execution_count": 30,
   "metadata": {},
   "outputs": [
    {
     "data": {
      "text/plain": [
       "776.0"
      ]
     },
     "execution_count": 30,
     "metadata": {},
     "output_type": "execute_result"
    }
   ],
   "source": [
    "year_2018['Peak'].max()"
   ]
  },
  {
   "cell_type": "code",
   "execution_count": 31,
   "metadata": {},
   "outputs": [
    {
     "data": {
      "text/plain": [
       "1040.0"
      ]
     },
     "execution_count": 31,
     "metadata": {},
     "output_type": "execute_result"
    }
   ],
   "source": [
    "year_2019['Peak'].max()"
   ]
  },
  {
   "cell_type": "code",
   "execution_count": 32,
   "metadata": {},
   "outputs": [
    {
     "data": {
      "text/plain": [
       "1710.0"
      ]
     },
     "execution_count": 32,
     "metadata": {},
     "output_type": "execute_result"
    }
   ],
   "source": [
    "year_2021['Peak'].max()"
   ]
  },
  {
   "cell_type": "code",
   "execution_count": null,
   "metadata": {},
   "outputs": [],
   "source": []
  },
  {
   "cell_type": "code",
   "execution_count": 33,
   "metadata": {},
   "outputs": [
    {
     "data": {
      "text/plain": [
       "55.85"
      ]
     },
     "execution_count": 33,
     "metadata": {},
     "output_type": "execute_result"
    }
   ],
   "source": [
    "year_2018['Average'].mean()"
   ]
  },
  {
   "cell_type": "code",
   "execution_count": 34,
   "metadata": {},
   "outputs": [
    {
     "data": {
      "text/plain": [
       "57.19166666666667"
      ]
     },
     "execution_count": 34,
     "metadata": {},
     "output_type": "execute_result"
    }
   ],
   "source": [
    "year_2019['Average'].mean()"
   ]
  },
  {
   "cell_type": "code",
   "execution_count": 35,
   "metadata": {},
   "outputs": [
    {
     "data": {
      "text/plain": [
       "66.5"
      ]
     },
     "execution_count": 35,
     "metadata": {},
     "output_type": "execute_result"
    }
   ],
   "source": [
    "year_2021['Average'].mean()"
   ]
  },
  {
   "cell_type": "code",
   "execution_count": null,
   "metadata": {},
   "outputs": [],
   "source": []
  },
  {
   "cell_type": "code",
   "execution_count": 36,
   "metadata": {},
   "outputs": [
    {
     "data": {
      "text/html": [
       "<div>\n",
       "<style scoped>\n",
       "    .dataframe tbody tr th:only-of-type {\n",
       "        vertical-align: middle;\n",
       "    }\n",
       "\n",
       "    .dataframe tbody tr th {\n",
       "        vertical-align: top;\n",
       "    }\n",
       "\n",
       "    .dataframe thead th {\n",
       "        text-align: right;\n",
       "    }\n",
       "</style>\n",
       "<table border=\"1\" class=\"dataframe\">\n",
       "  <thead>\n",
       "    <tr style=\"text-align: right;\">\n",
       "      <th></th>\n",
       "      <th>Month</th>\n",
       "      <th>Average</th>\n",
       "      <th>Gain</th>\n",
       "      <th>% Gain</th>\n",
       "      <th>Peak</th>\n",
       "    </tr>\n",
       "  </thead>\n",
       "  <tbody>\n",
       "    <tr>\n",
       "      <th>0</th>\n",
       "      <td>2022-07-01</td>\n",
       "      <td>855</td>\n",
       "      <td>38</td>\n",
       "      <td>0.047</td>\n",
       "      <td>1.4K</td>\n",
       "    </tr>\n",
       "    <tr>\n",
       "      <th>1</th>\n",
       "      <td>2022-06-01</td>\n",
       "      <td>817</td>\n",
       "      <td>5</td>\n",
       "      <td>0.006</td>\n",
       "      <td>1.4K</td>\n",
       "    </tr>\n",
       "    <tr>\n",
       "      <th>2</th>\n",
       "      <td>2022-05-01</td>\n",
       "      <td>812</td>\n",
       "      <td>32</td>\n",
       "      <td>0.041</td>\n",
       "      <td>1.4K</td>\n",
       "    </tr>\n",
       "    <tr>\n",
       "      <th>3</th>\n",
       "      <td>2022-04-01</td>\n",
       "      <td>780</td>\n",
       "      <td>17</td>\n",
       "      <td>0.022</td>\n",
       "      <td>1.3K</td>\n",
       "    </tr>\n",
       "    <tr>\n",
       "      <th>4</th>\n",
       "      <td>2022-03-01</td>\n",
       "      <td>763</td>\n",
       "      <td>-3</td>\n",
       "      <td>-0.004</td>\n",
       "      <td>1.4K</td>\n",
       "    </tr>\n",
       "    <tr>\n",
       "      <th>...</th>\n",
       "      <td>...</td>\n",
       "      <td>...</td>\n",
       "      <td>...</td>\n",
       "      <td>...</td>\n",
       "      <td>...</td>\n",
       "    </tr>\n",
       "    <tr>\n",
       "      <th>64</th>\n",
       "      <td>2017-03-01</td>\n",
       "      <td>395</td>\n",
       "      <td>-52</td>\n",
       "      <td>-0.116</td>\n",
       "      <td>923</td>\n",
       "    </tr>\n",
       "    <tr>\n",
       "      <th>65</th>\n",
       "      <td>2017-02-01</td>\n",
       "      <td>447</td>\n",
       "      <td>-39</td>\n",
       "      <td>-0.08</td>\n",
       "      <td>1.2K</td>\n",
       "    </tr>\n",
       "    <tr>\n",
       "      <th>66</th>\n",
       "      <td>2017-01-01</td>\n",
       "      <td>486</td>\n",
       "      <td>1</td>\n",
       "      <td>0.002</td>\n",
       "      <td>1.1K</td>\n",
       "    </tr>\n",
       "    <tr>\n",
       "      <th>67</th>\n",
       "      <td>2016-12-01</td>\n",
       "      <td>485</td>\n",
       "      <td>79</td>\n",
       "      <td>0.195</td>\n",
       "      <td>864</td>\n",
       "    </tr>\n",
       "    <tr>\n",
       "      <th>68</th>\n",
       "      <td>2016-11-01</td>\n",
       "      <td>406</td>\n",
       "      <td>-</td>\n",
       "      <td>-</td>\n",
       "      <td>816</td>\n",
       "    </tr>\n",
       "  </tbody>\n",
       "</table>\n",
       "<p>69 rows × 5 columns</p>\n",
       "</div>"
      ],
      "text/plain": [
       "        Month Average Gain % Gain  Peak\n",
       "0  2022-07-01     855   38  0.047  1.4K\n",
       "1  2022-06-01     817    5  0.006  1.4K\n",
       "2  2022-05-01     812   32  0.041  1.4K\n",
       "3  2022-04-01     780   17  0.022  1.3K\n",
       "4  2022-03-01     763   -3 -0.004  1.4K\n",
       "..        ...     ...  ...    ...   ...\n",
       "64 2017-03-01     395  -52 -0.116   923\n",
       "65 2017-02-01     447  -39  -0.08  1.2K\n",
       "66 2017-01-01     486    1  0.002  1.1K\n",
       "67 2016-12-01     485   79  0.195   864\n",
       "68 2016-11-01     406    -      -   816\n",
       "\n",
       "[69 rows x 5 columns]"
      ]
     },
     "execution_count": 36,
     "metadata": {},
     "output_type": "execute_result"
    }
   ],
   "source": [
    "twitch_streams = pd.read_excel('data/Twitch_Statistics.xlsx', sheet_name=1)\n",
    "twitch_streams"
   ]
  },
  {
   "cell_type": "code",
   "execution_count": 37,
   "metadata": {},
   "outputs": [],
   "source": [
    "twitch_streams['Peak'] = twitch_streams['Peak'].str.strip('KM')"
   ]
  },
  {
   "cell_type": "code",
   "execution_count": 38,
   "metadata": {},
   "outputs": [],
   "source": [
    "twitch_streams['Average'] = twitch_streams['Average'].str.strip('KM')"
   ]
  },
  {
   "cell_type": "code",
   "execution_count": 39,
   "metadata": {},
   "outputs": [],
   "source": [
    "twitch_streams['Peak'] = twitch_streams['Peak'].astype(float)"
   ]
  },
  {
   "cell_type": "code",
   "execution_count": 40,
   "metadata": {},
   "outputs": [],
   "source": [
    "twitch_streams['Average'] = twitch_streams['Average'].astype(float)"
   ]
  },
  {
   "cell_type": "code",
   "execution_count": 41,
   "metadata": {},
   "outputs": [
    {
     "data": {
      "text/html": [
       "<div>\n",
       "<style scoped>\n",
       "    .dataframe tbody tr th:only-of-type {\n",
       "        vertical-align: middle;\n",
       "    }\n",
       "\n",
       "    .dataframe tbody tr th {\n",
       "        vertical-align: top;\n",
       "    }\n",
       "\n",
       "    .dataframe thead th {\n",
       "        text-align: right;\n",
       "    }\n",
       "</style>\n",
       "<table border=\"1\" class=\"dataframe\">\n",
       "  <thead>\n",
       "    <tr style=\"text-align: right;\">\n",
       "      <th></th>\n",
       "      <th>Month</th>\n",
       "      <th>Average</th>\n",
       "      <th>Gain</th>\n",
       "      <th>% Gain</th>\n",
       "      <th>Peak</th>\n",
       "    </tr>\n",
       "  </thead>\n",
       "  <tbody>\n",
       "    <tr>\n",
       "      <th>0</th>\n",
       "      <td>2022-07-01</td>\n",
       "      <td>NaN</td>\n",
       "      <td>38</td>\n",
       "      <td>0.047</td>\n",
       "      <td>1.4</td>\n",
       "    </tr>\n",
       "    <tr>\n",
       "      <th>1</th>\n",
       "      <td>2022-06-01</td>\n",
       "      <td>NaN</td>\n",
       "      <td>5</td>\n",
       "      <td>0.006</td>\n",
       "      <td>1.4</td>\n",
       "    </tr>\n",
       "    <tr>\n",
       "      <th>2</th>\n",
       "      <td>2022-05-01</td>\n",
       "      <td>NaN</td>\n",
       "      <td>32</td>\n",
       "      <td>0.041</td>\n",
       "      <td>1.4</td>\n",
       "    </tr>\n",
       "    <tr>\n",
       "      <th>3</th>\n",
       "      <td>2022-04-01</td>\n",
       "      <td>NaN</td>\n",
       "      <td>17</td>\n",
       "      <td>0.022</td>\n",
       "      <td>1.3</td>\n",
       "    </tr>\n",
       "    <tr>\n",
       "      <th>4</th>\n",
       "      <td>2022-03-01</td>\n",
       "      <td>NaN</td>\n",
       "      <td>-3</td>\n",
       "      <td>-0.004</td>\n",
       "      <td>1.4</td>\n",
       "    </tr>\n",
       "    <tr>\n",
       "      <th>...</th>\n",
       "      <td>...</td>\n",
       "      <td>...</td>\n",
       "      <td>...</td>\n",
       "      <td>...</td>\n",
       "      <td>...</td>\n",
       "    </tr>\n",
       "    <tr>\n",
       "      <th>64</th>\n",
       "      <td>2017-03-01</td>\n",
       "      <td>NaN</td>\n",
       "      <td>-52</td>\n",
       "      <td>-0.116</td>\n",
       "      <td>NaN</td>\n",
       "    </tr>\n",
       "    <tr>\n",
       "      <th>65</th>\n",
       "      <td>2017-02-01</td>\n",
       "      <td>NaN</td>\n",
       "      <td>-39</td>\n",
       "      <td>-0.08</td>\n",
       "      <td>1.2</td>\n",
       "    </tr>\n",
       "    <tr>\n",
       "      <th>66</th>\n",
       "      <td>2017-01-01</td>\n",
       "      <td>NaN</td>\n",
       "      <td>1</td>\n",
       "      <td>0.002</td>\n",
       "      <td>1.1</td>\n",
       "    </tr>\n",
       "    <tr>\n",
       "      <th>67</th>\n",
       "      <td>2016-12-01</td>\n",
       "      <td>NaN</td>\n",
       "      <td>79</td>\n",
       "      <td>0.195</td>\n",
       "      <td>NaN</td>\n",
       "    </tr>\n",
       "    <tr>\n",
       "      <th>68</th>\n",
       "      <td>2016-11-01</td>\n",
       "      <td>NaN</td>\n",
       "      <td>-</td>\n",
       "      <td>-</td>\n",
       "      <td>NaN</td>\n",
       "    </tr>\n",
       "  </tbody>\n",
       "</table>\n",
       "<p>69 rows × 5 columns</p>\n",
       "</div>"
      ],
      "text/plain": [
       "        Month  Average Gain % Gain  Peak\n",
       "0  2022-07-01      NaN   38  0.047   1.4\n",
       "1  2022-06-01      NaN    5  0.006   1.4\n",
       "2  2022-05-01      NaN   32  0.041   1.4\n",
       "3  2022-04-01      NaN   17  0.022   1.3\n",
       "4  2022-03-01      NaN   -3 -0.004   1.4\n",
       "..        ...      ...  ...    ...   ...\n",
       "64 2017-03-01      NaN  -52 -0.116   NaN\n",
       "65 2017-02-01      NaN  -39  -0.08   1.2\n",
       "66 2017-01-01      NaN    1  0.002   1.1\n",
       "67 2016-12-01      NaN   79  0.195   NaN\n",
       "68 2016-11-01      NaN    -      -   NaN\n",
       "\n",
       "[69 rows x 5 columns]"
      ]
     },
     "execution_count": 41,
     "metadata": {},
     "output_type": "execute_result"
    }
   ],
   "source": [
    "twitch_streams"
   ]
  },
  {
   "cell_type": "code",
   "execution_count": null,
   "metadata": {},
   "outputs": [],
   "source": []
  },
  {
   "cell_type": "code",
   "execution_count": 42,
   "metadata": {},
   "outputs": [
    {
     "data": {
      "text/html": [
       "<div>\n",
       "<style scoped>\n",
       "    .dataframe tbody tr th:only-of-type {\n",
       "        vertical-align: middle;\n",
       "    }\n",
       "\n",
       "    .dataframe tbody tr th {\n",
       "        vertical-align: top;\n",
       "    }\n",
       "\n",
       "    .dataframe thead th {\n",
       "        text-align: right;\n",
       "    }\n",
       "</style>\n",
       "<table border=\"1\" class=\"dataframe\">\n",
       "  <thead>\n",
       "    <tr style=\"text-align: right;\">\n",
       "      <th></th>\n",
       "      <th>Month</th>\n",
       "      <th>Value</th>\n",
       "      <th>Gain</th>\n",
       "      <th>% Gain</th>\n",
       "    </tr>\n",
       "  </thead>\n",
       "  <tbody>\n",
       "    <tr>\n",
       "      <th>0</th>\n",
       "      <td>2022-07-01</td>\n",
       "      <td>2.08M</td>\n",
       "      <td>-41.1M</td>\n",
       "      <td>-0.952</td>\n",
       "    </tr>\n",
       "    <tr>\n",
       "      <th>1</th>\n",
       "      <td>2022-06-01</td>\n",
       "      <td>43.1M</td>\n",
       "      <td>#ERROR!</td>\n",
       "      <td>0.079</td>\n",
       "    </tr>\n",
       "    <tr>\n",
       "      <th>2</th>\n",
       "      <td>2022-05-01</td>\n",
       "      <td>40.0M</td>\n",
       "      <td>-8.66M</td>\n",
       "      <td>-0.178</td>\n",
       "    </tr>\n",
       "    <tr>\n",
       "      <th>3</th>\n",
       "      <td>2022-04-01</td>\n",
       "      <td>48.6M</td>\n",
       "      <td>#ERROR!</td>\n",
       "      <td>0.297</td>\n",
       "    </tr>\n",
       "    <tr>\n",
       "      <th>4</th>\n",
       "      <td>2022-03-01</td>\n",
       "      <td>37.5M</td>\n",
       "      <td>#ERROR!</td>\n",
       "      <td>0.093</td>\n",
       "    </tr>\n",
       "    <tr>\n",
       "      <th>...</th>\n",
       "      <td>...</td>\n",
       "      <td>...</td>\n",
       "      <td>...</td>\n",
       "      <td>...</td>\n",
       "    </tr>\n",
       "    <tr>\n",
       "      <th>64</th>\n",
       "      <td>2017-03-01</td>\n",
       "      <td>48.7M</td>\n",
       "      <td>#ERROR!</td>\n",
       "      <td>0.269</td>\n",
       "    </tr>\n",
       "    <tr>\n",
       "      <th>65</th>\n",
       "      <td>2017-02-01</td>\n",
       "      <td>38.4M</td>\n",
       "      <td>#ERROR!</td>\n",
       "      <td>0.197</td>\n",
       "    </tr>\n",
       "    <tr>\n",
       "      <th>66</th>\n",
       "      <td>2017-01-01</td>\n",
       "      <td>32.0M</td>\n",
       "      <td>-6.97M</td>\n",
       "      <td>-0.179</td>\n",
       "    </tr>\n",
       "    <tr>\n",
       "      <th>67</th>\n",
       "      <td>2016-12-01</td>\n",
       "      <td>39.0M</td>\n",
       "      <td>-5.70M</td>\n",
       "      <td>-0.127</td>\n",
       "    </tr>\n",
       "    <tr>\n",
       "      <th>68</th>\n",
       "      <td>2016-11-01</td>\n",
       "      <td>44.7M</td>\n",
       "      <td>-</td>\n",
       "      <td>-</td>\n",
       "    </tr>\n",
       "  </tbody>\n",
       "</table>\n",
       "<p>69 rows × 4 columns</p>\n",
       "</div>"
      ],
      "text/plain": [
       "        Month  Value     Gain % Gain\n",
       "0  2022-07-01  2.08M   -41.1M -0.952\n",
       "1  2022-06-01  43.1M  #ERROR!  0.079\n",
       "2  2022-05-01  40.0M   -8.66M -0.178\n",
       "3  2022-04-01  48.6M  #ERROR!  0.297\n",
       "4  2022-03-01  37.5M  #ERROR!  0.093\n",
       "..        ...    ...      ...    ...\n",
       "64 2017-03-01  48.7M  #ERROR!  0.269\n",
       "65 2017-02-01  38.4M  #ERROR!  0.197\n",
       "66 2017-01-01  32.0M   -6.97M -0.179\n",
       "67 2016-12-01  39.0M   -5.70M -0.127\n",
       "68 2016-11-01  44.7M        -      -\n",
       "\n",
       "[69 rows x 4 columns]"
      ]
     },
     "execution_count": 42,
     "metadata": {},
     "output_type": "execute_result"
    }
   ],
   "source": [
    "twitch_hours = pd.read_excel('data/Twitch_Statistics.xlsx', sheet_name=2)\n",
    "twitch_hours"
   ]
  },
  {
   "cell_type": "code",
   "execution_count": 43,
   "metadata": {},
   "outputs": [],
   "source": [
    "twitch_hours['Months'] = pd.DatetimeIndex(twitch_hours['Month']).month"
   ]
  },
  {
   "cell_type": "code",
   "execution_count": 44,
   "metadata": {},
   "outputs": [],
   "source": [
    "twitch_hours['Year'] = pd.DatetimeIndex(twitch_hours['Month']).year"
   ]
  },
  {
   "cell_type": "code",
   "execution_count": 45,
   "metadata": {},
   "outputs": [
    {
     "data": {
      "text/html": [
       "<div>\n",
       "<style scoped>\n",
       "    .dataframe tbody tr th:only-of-type {\n",
       "        vertical-align: middle;\n",
       "    }\n",
       "\n",
       "    .dataframe tbody tr th {\n",
       "        vertical-align: top;\n",
       "    }\n",
       "\n",
       "    .dataframe thead th {\n",
       "        text-align: right;\n",
       "    }\n",
       "</style>\n",
       "<table border=\"1\" class=\"dataframe\">\n",
       "  <thead>\n",
       "    <tr style=\"text-align: right;\">\n",
       "      <th></th>\n",
       "      <th>Months</th>\n",
       "    </tr>\n",
       "    <tr>\n",
       "      <th>Year</th>\n",
       "      <th></th>\n",
       "    </tr>\n",
       "  </thead>\n",
       "  <tbody>\n",
       "    <tr>\n",
       "      <th>2016</th>\n",
       "      <td>11.5</td>\n",
       "    </tr>\n",
       "    <tr>\n",
       "      <th>2017</th>\n",
       "      <td>6.5</td>\n",
       "    </tr>\n",
       "    <tr>\n",
       "      <th>2018</th>\n",
       "      <td>6.5</td>\n",
       "    </tr>\n",
       "    <tr>\n",
       "      <th>2019</th>\n",
       "      <td>6.5</td>\n",
       "    </tr>\n",
       "    <tr>\n",
       "      <th>2020</th>\n",
       "      <td>6.5</td>\n",
       "    </tr>\n",
       "    <tr>\n",
       "      <th>2021</th>\n",
       "      <td>6.5</td>\n",
       "    </tr>\n",
       "    <tr>\n",
       "      <th>2022</th>\n",
       "      <td>4.0</td>\n",
       "    </tr>\n",
       "  </tbody>\n",
       "</table>\n",
       "</div>"
      ],
      "text/plain": [
       "      Months\n",
       "Year        \n",
       "2016    11.5\n",
       "2017     6.5\n",
       "2018     6.5\n",
       "2019     6.5\n",
       "2020     6.5\n",
       "2021     6.5\n",
       "2022     4.0"
      ]
     },
     "execution_count": 45,
     "metadata": {},
     "output_type": "execute_result"
    }
   ],
   "source": [
    "twitch_hours.groupby(['Year']).mean()"
   ]
  },
  {
   "cell_type": "code",
   "execution_count": 46,
   "metadata": {},
   "outputs": [],
   "source": [
    "twitch_hours['Value'] = twitch_hours['Value'].str.strip('KM')"
   ]
  },
  {
   "cell_type": "code",
   "execution_count": 47,
   "metadata": {},
   "outputs": [],
   "source": [
    "twitch_hours['Value'] = twitch_hours['Value'].astype(float)"
   ]
  },
  {
   "cell_type": "code",
   "execution_count": 48,
   "metadata": {},
   "outputs": [
    {
     "data": {
      "text/html": [
       "<div>\n",
       "<style scoped>\n",
       "    .dataframe tbody tr th:only-of-type {\n",
       "        vertical-align: middle;\n",
       "    }\n",
       "\n",
       "    .dataframe tbody tr th {\n",
       "        vertical-align: top;\n",
       "    }\n",
       "\n",
       "    .dataframe thead th {\n",
       "        text-align: right;\n",
       "    }\n",
       "</style>\n",
       "<table border=\"1\" class=\"dataframe\">\n",
       "  <thead>\n",
       "    <tr style=\"text-align: right;\">\n",
       "      <th></th>\n",
       "      <th>Month</th>\n",
       "      <th>Value</th>\n",
       "      <th>Gain</th>\n",
       "      <th>% Gain</th>\n",
       "      <th>Months</th>\n",
       "      <th>Year</th>\n",
       "    </tr>\n",
       "  </thead>\n",
       "  <tbody>\n",
       "    <tr>\n",
       "      <th>0</th>\n",
       "      <td>2022-07-01</td>\n",
       "      <td>2.08</td>\n",
       "      <td>-41.1M</td>\n",
       "      <td>-0.952</td>\n",
       "      <td>7</td>\n",
       "      <td>2022</td>\n",
       "    </tr>\n",
       "    <tr>\n",
       "      <th>1</th>\n",
       "      <td>2022-06-01</td>\n",
       "      <td>43.10</td>\n",
       "      <td>#ERROR!</td>\n",
       "      <td>0.079</td>\n",
       "      <td>6</td>\n",
       "      <td>2022</td>\n",
       "    </tr>\n",
       "    <tr>\n",
       "      <th>2</th>\n",
       "      <td>2022-05-01</td>\n",
       "      <td>40.00</td>\n",
       "      <td>-8.66M</td>\n",
       "      <td>-0.178</td>\n",
       "      <td>5</td>\n",
       "      <td>2022</td>\n",
       "    </tr>\n",
       "    <tr>\n",
       "      <th>3</th>\n",
       "      <td>2022-04-01</td>\n",
       "      <td>48.60</td>\n",
       "      <td>#ERROR!</td>\n",
       "      <td>0.297</td>\n",
       "      <td>4</td>\n",
       "      <td>2022</td>\n",
       "    </tr>\n",
       "    <tr>\n",
       "      <th>4</th>\n",
       "      <td>2022-03-01</td>\n",
       "      <td>37.50</td>\n",
       "      <td>#ERROR!</td>\n",
       "      <td>0.093</td>\n",
       "      <td>3</td>\n",
       "      <td>2022</td>\n",
       "    </tr>\n",
       "    <tr>\n",
       "      <th>...</th>\n",
       "      <td>...</td>\n",
       "      <td>...</td>\n",
       "      <td>...</td>\n",
       "      <td>...</td>\n",
       "      <td>...</td>\n",
       "      <td>...</td>\n",
       "    </tr>\n",
       "    <tr>\n",
       "      <th>64</th>\n",
       "      <td>2017-03-01</td>\n",
       "      <td>48.70</td>\n",
       "      <td>#ERROR!</td>\n",
       "      <td>0.269</td>\n",
       "      <td>3</td>\n",
       "      <td>2017</td>\n",
       "    </tr>\n",
       "    <tr>\n",
       "      <th>65</th>\n",
       "      <td>2017-02-01</td>\n",
       "      <td>38.40</td>\n",
       "      <td>#ERROR!</td>\n",
       "      <td>0.197</td>\n",
       "      <td>2</td>\n",
       "      <td>2017</td>\n",
       "    </tr>\n",
       "    <tr>\n",
       "      <th>66</th>\n",
       "      <td>2017-01-01</td>\n",
       "      <td>32.00</td>\n",
       "      <td>-6.97M</td>\n",
       "      <td>-0.179</td>\n",
       "      <td>1</td>\n",
       "      <td>2017</td>\n",
       "    </tr>\n",
       "    <tr>\n",
       "      <th>67</th>\n",
       "      <td>2016-12-01</td>\n",
       "      <td>39.00</td>\n",
       "      <td>-5.70M</td>\n",
       "      <td>-0.127</td>\n",
       "      <td>12</td>\n",
       "      <td>2016</td>\n",
       "    </tr>\n",
       "    <tr>\n",
       "      <th>68</th>\n",
       "      <td>2016-11-01</td>\n",
       "      <td>44.70</td>\n",
       "      <td>-</td>\n",
       "      <td>-</td>\n",
       "      <td>11</td>\n",
       "      <td>2016</td>\n",
       "    </tr>\n",
       "  </tbody>\n",
       "</table>\n",
       "<p>69 rows × 6 columns</p>\n",
       "</div>"
      ],
      "text/plain": [
       "        Month  Value     Gain % Gain  Months  Year\n",
       "0  2022-07-01   2.08   -41.1M -0.952       7  2022\n",
       "1  2022-06-01  43.10  #ERROR!  0.079       6  2022\n",
       "2  2022-05-01  40.00   -8.66M -0.178       5  2022\n",
       "3  2022-04-01  48.60  #ERROR!  0.297       4  2022\n",
       "4  2022-03-01  37.50  #ERROR!  0.093       3  2022\n",
       "..        ...    ...      ...    ...     ...   ...\n",
       "64 2017-03-01  48.70  #ERROR!  0.269       3  2017\n",
       "65 2017-02-01  38.40  #ERROR!  0.197       2  2017\n",
       "66 2017-01-01  32.00   -6.97M -0.179       1  2017\n",
       "67 2016-12-01  39.00   -5.70M -0.127      12  2016\n",
       "68 2016-11-01  44.70        -      -      11  2016\n",
       "\n",
       "[69 rows x 6 columns]"
      ]
     },
     "execution_count": 48,
     "metadata": {},
     "output_type": "execute_result"
    }
   ],
   "source": [
    "twitch_hours"
   ]
  },
  {
   "cell_type": "code",
   "execution_count": null,
   "metadata": {},
   "outputs": [],
   "source": []
  },
  {
   "cell_type": "code",
   "execution_count": null,
   "metadata": {},
   "outputs": [],
   "source": []
  }
 ],
 "metadata": {
  "kernelspec": {
   "display_name": "Python (learn-env)",
   "language": "python",
   "name": "learn-env"
  },
  "language_info": {
   "codemirror_mode": {
    "name": "ipython",
    "version": 3
   },
   "file_extension": ".py",
   "mimetype": "text/x-python",
   "name": "python",
   "nbconvert_exporter": "python",
   "pygments_lexer": "ipython3",
   "version": "3.8.5"
  }
 },
 "nbformat": 4,
 "nbformat_minor": 4
}
